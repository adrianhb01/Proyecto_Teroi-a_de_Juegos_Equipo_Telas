{
 "cells": [
  {
   "cell_type": "markdown",
   "id": "48a3bfae",
   "metadata": {},
   "source": [
    "–––––––––––––––––––––––––––––––––––––––––––––––––––––––––––––––––––––––––––––––––––––––––––––––––––––––––––––––––––––––––––––––––––––––––––\n",
    "\n",
    "<img style=\"float: right; margin: 35px 35px 1px 1px;\" src=\"https://upload.wikimedia.org/wikipedia/commons/d/db/Logo_ITESO_normal.jpg\" width=\"160px\" height=\"135px\"/>\n",
    "\n",
    "# Proyecto Final: Ecuación de Black-Scholes \n",
    "\n",
    "## Ingeniería Financiera - Decisiones y Teoría de Juegos \n",
    "\n",
    "### Maestro: Juan Martín Casillas González\n",
    "\n",
    "### 8 de mayo de 2023.\n",
    "\n",
    "> **Por:** \n",
    "> - Gustavo Adrián Herrera Barragán\n",
    "> - José Alfonso Martínez Ramirez\n",
    "> - Erick Uribe Rodriguez\n",
    "\n",
    "–––––––––––––––––––––––––––––––––––––––––––––––––––––––––––––––––––––––––––––––––––––––––––––––––––––––––––––––––––––––––––––––––––––––––––"
   ]
  },
  {
   "cell_type": "markdown",
   "id": "0102ebe3",
   "metadata": {},
   "source": [
    "## 0. Introducción Librerías:\n"
   ]
  },
  {
   "cell_type": "code",
   "execution_count": 12,
   "id": "90a37fa0",
   "metadata": {},
   "outputs": [],
   "source": [
    "import numpy as np\n",
    "import scipy as scp\n",
    "import scipy.stats as ss\n",
    "import scipy.stats as st\n",
    "import scipy.linalg as linalg\n",
    "from scipy import sparse\n",
    "from scipy.integrate import quad\n",
    "from scipy.sparse.linalg import spsolve\n",
    "from functools import partial\n",
    "import matplotlib.pyplot as plt\n",
    "from matplotlib import cm\n",
    "%matplotlib inline"
   ]
  },
  {
   "cell_type": "markdown",
   "id": "8ded8d2b",
   "metadata": {},
   "source": [
    "\n",
    "–––––––––––––––––––––––––––––––––––––––––––––––––––––––––––––––––––––––––––––––––––––––––––––––––––––––––––––––––––––––––––––––––––––––––––"
   ]
  },
  {
   "cell_type": "markdown",
   "id": "2b135f78",
   "metadata": {},
   "source": [
    "## 1. Valor de una opcion con el Método Implícito de Diferencias Finitas"
   ]
  },
  {
   "cell_type": "code",
   "execution_count": 13,
   "id": "b54a724b",
   "metadata": {},
   "outputs": [],
   "source": [
    "S = 60\n",
    "Smax = 100\n",
    "K = 50\n",
    "r = 0.01\n",
    "T = 12/12\n",
    "sigma = 0.4\n",
    "is_call = True\n",
    "M = 100\n",
    "N = 100"
   ]
  },
  {
   "cell_type": "code",
   "execution_count": 14,
   "id": "4b3a2d43",
   "metadata": {},
   "outputs": [
    {
     "name": "stdout",
     "output_type": "stream",
     "text": [
      "El valor de la opcion call es : 14.876691720457153\n",
      "El valor de la opcion put es : 4.379206573391193\n"
     ]
    }
   ],
   "source": [
    "def FD_Vanilla_Option(S, K, r, T, sigma, Smax, M, N, is_call=True):\n",
    "    '''Calcula el valor de la opcion Vanilla usando el\n",
    "    metodo de diferencias finitas\n",
    "    \n",
    "    Parametros\n",
    "    ----------\n",
    "    S: precio spot\n",
    "    K: precio strike\n",
    "    T: tiempo de vencimiento\n",
    "    r: tasa de interes libre de riesgo\n",
    "    sigma: volatilidad del activo\n",
    "    Smax: maximo valor del activo\n",
    "    M: numero de particiones del activo\n",
    "    N: numero de particiones del tiempo\n",
    "    is_call: define si es opcion call o put\n",
    "    \n",
    "    Resultado\n",
    "    -------\n",
    "    V : Valor de la opcion\n",
    "    '''\n",
    "    M, N = int(M), int(N)  \n",
    "\n",
    "    dS = Smax / float(M)\n",
    "    dt = T / float(N)\n",
    "\n",
    "    grid = np.zeros((M+1, N+1))\n",
    "    iValues = np.arange(M)\n",
    "    jValues = np.arange(N)\n",
    "    SValues = np.linspace(0, Smax, M+1)\n",
    "\n",
    "    if is_call == True:\n",
    "        '''\n",
    "        Condiciones iniciales opcion Call:\n",
    "        C(0,t) = 0\n",
    "        C(Smax,t) = Smax - K e^(-r(T-t))\n",
    "        C(S,T) = Smax - K\n",
    "        '''\n",
    "        grid[:,-1] = np.maximum(SValues - K, 0)\n",
    "        grid[-1,:-1] = Smax - K * np.exp(-r * dt * (N - jValues))\n",
    "    else:\n",
    "        '''\n",
    "        Condiciones iniciales:\n",
    "        P(0,t) = K e^(-r(T-t))\n",
    "        P(Smax,t) =  0\n",
    "        P(S,T) = K - Smax\n",
    "        '''\n",
    "        grid[:, -1] = np.maximum(K - SValues, 0)\n",
    "        grid[0, :-1] = K * np.exp(-r * dt * (N - jValues))\n",
    "\n",
    "    alpha =  0.5 * dt * iValues * (r  - sigma**2 * iValues)\n",
    "    beta  =  1 + dt * (r + sigma**2 * iValues**2)\n",
    "    gamma = -0.5 * dt * iValues * (r  + sigma**2 * iValues)\n",
    "\n",
    "    coeffs = np.diag(alpha[2:M], -1) + np.diag(beta[1:M]) + np.diag(gamma[1:M-1], 1)\n",
    "\n",
    "    P, L, U = linalg.lu(coeffs)\n",
    "    aux = np.zeros(M-1)\n",
    "\n",
    "    for j in reversed(range(N)):\n",
    "        aux[0] = np.dot(alpha[1], grid[0, j])\n",
    "        aux[-1] = np.dot(-gamma[M-1], grid[M, j])\n",
    "        x1 = linalg.solve(L, grid[1:M, j+1]+aux)\n",
    "        x2 = linalg.solve(U, x1)\n",
    "        grid[1:M, j] = x2\n",
    "    \n",
    "    V = np.interp(S, SValues, grid[:, 0])\n",
    "    return V\n",
    "\n",
    "call_1 = FD_Vanilla_Option(S, K, r, T, sigma, Smax, M, N, is_call=True)\n",
    "put_1 = FD_Vanilla_Option(S, K, r, T, sigma, Smax, M, N, is_call=False)\n",
    "print('El valor de la opcion call es :', call_1)\n",
    "print('El valor de la opcion put es :', put_1)"
   ]
  },
  {
   "cell_type": "code",
   "execution_count": null,
   "id": "5a72b570",
   "metadata": {},
   "outputs": [],
   "source": []
  },
  {
   "cell_type": "code",
   "execution_count": null,
   "id": "265e6f46",
   "metadata": {},
   "outputs": [],
   "source": []
  },
  {
   "cell_type": "code",
   "execution_count": null,
   "id": "a8c76a61",
   "metadata": {},
   "outputs": [],
   "source": []
  },
  {
   "cell_type": "code",
   "execution_count": null,
   "id": "e3257c79",
   "metadata": {},
   "outputs": [],
   "source": []
  },
  {
   "cell_type": "markdown",
   "id": "486a3cf6",
   "metadata": {},
   "source": [
    "## 1. Valor de una opcion con el Método Analítico"
   ]
  },
  {
   "cell_type": "code",
   "execution_count": 15,
   "id": "27b5f492",
   "metadata": {},
   "outputs": [
    {
     "name": "stdout",
     "output_type": "stream",
     "text": [
      "El valor de la opcion call es : 14.895416292915225\n",
      "El valor de la opcion put es : 4.3979079803736205\n"
     ]
    }
   ],
   "source": [
    "def BS_Vanilla_Option(S, K, r, T, sigma, is_call = True):\n",
    "    '''Calcula el valor de la opcion Vanilla usando el\n",
    "    metodo de diferencias finitas\n",
    "    \n",
    "    Parametros\n",
    "    ----------\n",
    "    S: precio spot\n",
    "    K: precio strike\n",
    "    T: tiempo de vencimiento\n",
    "    r: tasa de interes libre de riesgo\n",
    "    sigma: volatilidad del activo\n",
    "    \n",
    "    Resultado\n",
    "    -------\n",
    "    V : Valor de la opcion\n",
    "    '''\n",
    "    \n",
    "    d1 = (np.log(S / K) + (r + 0.5 * sigma ** 2) * T) / (sigma * np.sqrt(T))\n",
    "    d2 = d1 - (sigma * np.sqrt(T))\n",
    "    if is_call == True:\n",
    "        V = (S * st.norm.cdf(d1, 0.0, 1.0) - K * np.exp(-r * T) * st.norm.cdf(d2, 0.0, 1.0))\n",
    "    else:\n",
    "        V = K * np.exp(-r * T) * st.norm.cdf(-d2, 0.0, 1.0) - S * st.norm.cdf(-d1, 0.0, 1.0) \n",
    "    return V\n",
    "\n",
    "call_2 = BS_Vanilla_Option(S, K, r, T, sigma, is_call=True)\n",
    "put_2 = BS_Vanilla_Option(S, K, r, T, sigma, is_call=False)\n",
    "\n",
    "print('El valor de la opcion call es :', call_2)\n",
    "print('El valor de la opcion put es :', put_2)"
   ]
  },
  {
   "cell_type": "code",
   "execution_count": null,
   "id": "64bc85a2",
   "metadata": {},
   "outputs": [],
   "source": []
  },
  {
   "cell_type": "code",
   "execution_count": null,
   "id": "16ee20ee",
   "metadata": {},
   "outputs": [],
   "source": []
  },
  {
   "cell_type": "code",
   "execution_count": null,
   "id": "fac6173d",
   "metadata": {},
   "outputs": [],
   "source": []
  },
  {
   "cell_type": "code",
   "execution_count": null,
   "id": "3c872f42",
   "metadata": {},
   "outputs": [],
   "source": []
  },
  {
   "cell_type": "markdown",
   "id": "7e52100d",
   "metadata": {},
   "source": [
    "<script>\n",
    "  $(document).ready(function(){\n",
    "    $('div.prompt').hide();\n",
    "    $('div.back-to-top').hide();\n",
    "    $('nav#menubar').hide();\n",
    "    $('.breadcrumb').hide();\n",
    "    $('.hidden-print').hide();\n",
    "  });\n",
    "</script>\n",
    "\n",
    "<footer id=\"attribution\" style=\"float:right; color:#808080; background:#fff;\">\n",
    "Creado con Jupyter por: Gustavo Adrián Herrera Barragán, José Alfonso Martínez Ramirez & Erick Uribe Rodriguez.\n",
    "</footer>"
   ]
  }
 ],
 "metadata": {
  "kernelspec": {
   "display_name": "Python 3",
   "language": "python",
   "name": "python3"
  },
  "language_info": {
   "codemirror_mode": {
    "name": "ipython",
    "version": 3
   },
   "file_extension": ".py",
   "mimetype": "text/x-python",
   "name": "python",
   "nbconvert_exporter": "python",
   "pygments_lexer": "ipython3",
   "version": "3.8.8"
  }
 },
 "nbformat": 4,
 "nbformat_minor": 5
}
