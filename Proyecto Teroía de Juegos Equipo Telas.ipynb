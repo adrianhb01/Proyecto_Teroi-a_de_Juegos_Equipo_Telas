{
 "cells": [
  {
   "cell_type": "markdown",
   "id": "48a3bfae",
   "metadata": {},
   "source": [
    "–––––––––––––––––––––––––––––––––––––––––––––––––––––––––––––––––––––––––––––––––––––––––––––––––––––––––––––––––––––––––––––––––––––––––––\n",
    "\n",
    "<img style=\"float: right; margin: 35px 35px 1px 1px;\" src=\"https://upload.wikimedia.org/wikipedia/commons/d/db/Logo_ITESO_normal.jpg\" width=\"160px\" height=\"135px\"/>\n",
    "\n",
    "# Proyecto Final: Ecuación de Black-Scholes \n",
    "\n",
    "## Ingeniería Financiera - Decisiones y Teoría de Juegos \n",
    "\n",
    "### Maestro: Juan Martín Casillas González\n",
    "\n",
    "### 8 de mayo de 2023.\n",
    "\n",
    "> **Por:** \n",
    "> - Gustavo Adrián Herrera Barragán\n",
    "> - José Alfonso Martínez Ramirez\n",
    "> - Erick Uribe Rodriguez\n",
    "\n",
    "–––––––––––––––––––––––––––––––––––––––––––––––––––––––––––––––––––––––––––––––––––––––––––––––––––––––––––––––––––––––––––––––––––––––––––"
   ]
  },
  {
<<<<<<< Updated upstream
=======
   "cell_type": "markdown",
   "id": "2dfb45de",
   "metadata": {},
   "source": [
    "## 0. Introducción Librerías:\n"
   ]
  },
  {
   "cell_type": "code",
   "execution_count": 3,
   "id": "90a37fa0",
   "metadata": {},
   "outputs": [],
   "source": [
    "import numpy as np\n",
    "import scipy as scp\n",
    "import scipy.stats as ss\n",
    "from scipy import sparse\n",
    "from scipy.integrate import quad\n",
    "from scipy.sparse.linalg import spsolve\n",
    "from functools import partial\n",
    "import matplotlib.pyplot as plt\n",
    "from matplotlib import cm\n",
    "%matplotlib inline"
   ]
  },
  {
   "cell_type": "markdown",
   "id": "dcbec2e5",
   "metadata": {},
   "source": [
    "\n",
    "–––––––––––––––––––––––––––––––––––––––––––––––––––––––––––––––––––––––––––––––––––––––––––––––––––––––––––––––––––––––––––––––––––––––––––"
   ]
  },
  {
   "cell_type": "markdown",
   "id": "d9e48886",
   "metadata": {},
   "source": [
    "## 1. Opciones Europeas:"
   ]
  },
  {
   "cell_type": "markdown",
   "id": "92d8b57b",
   "metadata": {},
   "source": [
    "La fórmula de Black-Scholes para una opción de compra y una opción de venta es:\n",
    "\n",
    "$$ C(t,T,S_t,K,r,\\sigma) = S_t N(d_1) - K e^{-r(T-t)} N(d_2) $$\n",
    "\n",
    "$$ P(t,T,S_t,K,r,\\sigma) = K e^{-r(T-t)} N(-d_2) - S_t N(-d_1) $$\n",
    "\n",
    "en donde: \n",
    "\n",
    "$$ d_1 = \\frac{1}{\\sigma \\sqrt{T-t}} \\biggl[ \\log \\biggl( \\frac{S_t}{K} \\biggr) + \\biggl(r + \\frac{\\sigma^2}{2} \\biggr) (T-t) \\biggr] \\quad \\mbox{and} \\quad d_2 = d_1 - \\sigma \\sqrt{T-t} $$\n",
    "\n",
    "$N$ es la función de distribución acumulativa de una variable aleatoria normal estándar."
   ]
  },
  {
   "cell_type": "code",
   "execution_count": 5,
   "id": "03c8b78d",
   "metadata": {},
   "outputs": [],
   "source": [
    "S0=100.0    # precio actual (spot)\n",
    "K=100.0     # precio de ejercicio (strike)\n",
    "T=1.0       # vencimiento (años) \n",
    "r=0.1       # tasa de interés libre de riesgo\n",
    "sig=0.2     # volatilidad"
   ]
  },
  {
   "cell_type": "code",
   "execution_count": null,
   "id": "230d8b8e",
   "metadata": {},
   "outputs": [],
   "source": []
  },
  {
>>>>>>> Stashed changes
   "cell_type": "code",
   "execution_count": null,
   "id": "fc195fbc",
   "metadata": {},
   "outputs": [],
   "source": []
  },
  {
   "cell_type": "code",
   "execution_count": null,
   "id": "164fc9d5",
   "metadata": {},
   "outputs": [],
   "source": []
  },
  {
   "cell_type": "code",
   "execution_count": null,
   "id": "3c7b51a2",
   "metadata": {},
   "outputs": [],
   "source": []
  },
  {
   "cell_type": "code",
   "execution_count": null,
   "id": "410492f5",
   "metadata": {},
   "outputs": [],
   "source": []
  },
  {
   "cell_type": "code",
   "execution_count": 4,
   "id": "b896bac5",
   "metadata": {},
   "outputs": [
    {
     "ename": "NameError",
     "evalue": "name 'r' is not defined",
     "output_type": "error",
     "traceback": [
      "\u001b[0;31m---------------------------------------------------------------------------\u001b[0m",
      "\u001b[0;31mNameError\u001b[0m                                 Traceback (most recent call last)",
      "\u001b[0;32m<ipython-input-4-417ccddb8495>\u001b[0m in \u001b[0;36m<module>\u001b[0;34m\u001b[0m\n\u001b[1;32m      2\u001b[0m \u001b[0mN\u001b[0m \u001b[0;34m=\u001b[0m \u001b[0;36m10000000\u001b[0m  \u001b[0;31m# número de variables aleatorias\u001b[0m\u001b[0;34m\u001b[0m\u001b[0;34m\u001b[0m\u001b[0m\n\u001b[1;32m      3\u001b[0m \u001b[0;34m\u001b[0m\u001b[0m\n\u001b[0;32m----> 4\u001b[0;31m \u001b[0mW\u001b[0m \u001b[0;34m=\u001b[0m \u001b[0mss\u001b[0m\u001b[0;34m.\u001b[0m\u001b[0mnorm\u001b[0m\u001b[0;34m.\u001b[0m\u001b[0mrvs\u001b[0m\u001b[0;34m(\u001b[0m \u001b[0;34m(\u001b[0m\u001b[0mr\u001b[0m\u001b[0;34m-\u001b[0m\u001b[0;36m0.5\u001b[0m\u001b[0;34m*\u001b[0m\u001b[0msig\u001b[0m\u001b[0;34m**\u001b[0m\u001b[0;36m2\u001b[0m\u001b[0;34m)\u001b[0m\u001b[0;34m*\u001b[0m\u001b[0mT\u001b[0m \u001b[0;34m,\u001b[0m \u001b[0mnp\u001b[0m\u001b[0;34m.\u001b[0m\u001b[0msqrt\u001b[0m\u001b[0;34m(\u001b[0m\u001b[0mT\u001b[0m\u001b[0;34m)\u001b[0m\u001b[0;34m*\u001b[0m\u001b[0msig\u001b[0m\u001b[0;34m,\u001b[0m \u001b[0mN\u001b[0m\u001b[0;34m)\u001b[0m\u001b[0;34m\u001b[0m\u001b[0;34m\u001b[0m\u001b[0m\n\u001b[0m\u001b[1;32m      5\u001b[0m \u001b[0mS_T\u001b[0m \u001b[0;34m=\u001b[0m \u001b[0mS0\u001b[0m \u001b[0;34m*\u001b[0m \u001b[0mnp\u001b[0m\u001b[0;34m.\u001b[0m\u001b[0mexp\u001b[0m\u001b[0;34m(\u001b[0m\u001b[0mW\u001b[0m\u001b[0;34m)\u001b[0m\u001b[0;34m\u001b[0m\u001b[0;34m\u001b[0m\u001b[0m\n\u001b[1;32m      6\u001b[0m \u001b[0;34m\u001b[0m\u001b[0m\n",
      "\u001b[0;31mNameError\u001b[0m: name 'r' is not defined"
     ]
    }
   ],
   "source": [
    "np.random.seed(seed=50)  # semilla para números aleatorios\n",
    "N = 10000000  # número de variables aleatorias\n",
    "\n",
    "W = ss.norm.rvs( (r-0.5*sig**2)*T , np.sqrt(T)*sig, N)\n",
    "S_T = S0 * np.exp(W)\n",
    "\n",
    "call = np.mean( np.exp(-r*T) * np.maximum(S_T-K,0) )\n",
    "put = np.mean( np.exp(-r*T) * np.maximum(K-S_T,0) )\n",
    "\n",
    "print(\"Call price: {}\".format(call))\n",
    "print(\"Put price: {}\".format(put))"
   ]
  },
  {
   "cell_type": "code",
   "execution_count": null,
   "id": "92524d65",
   "metadata": {},
   "outputs": [],
   "source": []
  },
  {
   "cell_type": "markdown",
   "id": "7e52100d",
   "metadata": {},
   "source": [
    "<script>\n",
    "  $(document).ready(function(){\n",
    "    $('div.prompt').hide();\n",
    "    $('div.back-to-top').hide();\n",
    "    $('nav#menubar').hide();\n",
    "    $('.breadcrumb').hide();\n",
    "    $('.hidden-print').hide();\n",
    "  });\n",
    "</script>\n",
    "\n",
    "<footer id=\"attribution\" style=\"float:right; color:#808080; background:#fff;\">\n",
    "Creado con Jupyter por: Gustavo Adrián Herrera Barragán, José Alfonso Martínez Ramirez & Erick Uribe Rodriguez.\n",
    "</footer>"
   ]
  }
 ],
 "metadata": {
  "kernelspec": {
   "display_name": "Python 3 (ipykernel)",
   "language": "python",
   "name": "python3"
  },
  "language_info": {
   "codemirror_mode": {
    "name": "ipython",
    "version": 3
   },
   "file_extension": ".py",
   "mimetype": "text/x-python",
   "name": "python",
   "nbconvert_exporter": "python",
   "pygments_lexer": "ipython3",
   "version": "3.9.12"
  }
 },
 "nbformat": 4,
 "nbformat_minor": 5
}
